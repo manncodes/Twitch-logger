{
 "cells": [
  {
   "cell_type": "code",
   "execution_count": 1,
   "metadata": {},
   "outputs": [],
   "source": [
    "server = 'irc.chat.twitch.tv'\n",
    "port = 6667\n",
    "nickname = 'mxnn21'\n",
    "token = 'oauth:lj5n5gzwyamz3gu4hx7p3157mes8sm'\n",
    "channel = '#kyedae_'"
   ]
  },
  {
   "cell_type": "code",
   "execution_count": 2,
   "metadata": {},
   "outputs": [],
   "source": [
    "import socket\n",
    "sock = socket.socket()"
   ]
  },
  {
   "cell_type": "code",
   "execution_count": 3,
   "metadata": {},
   "outputs": [],
   "source": [
    "sock.connect((server,port))"
   ]
  },
  {
   "cell_type": "code",
   "execution_count": 4,
   "metadata": {},
   "outputs": [
    {
     "data": {
      "text/plain": [
       "14"
      ]
     },
     "execution_count": 4,
     "metadata": {},
     "output_type": "execute_result"
    }
   ],
   "source": [
    "sock.send(f\"PASS {token}\\n\".encode('utf-8'))\n",
    "sock.send(f\"NICK {nickname}\\n\".encode('utf-8'))\n",
    "sock.send(f\"JOIN {channel}\\n\".encode('utf-8'))"
   ]
  },
  {
   "cell_type": "code",
   "execution_count": 5,
   "metadata": {},
   "outputs": [
    {
     "data": {
      "text/plain": [
       "':tmi.twitch.tv 001 mxnn21 :Welcome, GLHF!\\r\\n:tmi.twitch.tv 002 mxnn21 :Your host is tmi.twitch.tv\\r\\n:tmi.twitch.tv 003 mxnn21 :This server is rather new\\r\\n:tmi.twitch.tv 004 mxnn21 :-\\r\\n:tmi.twitch.tv 375 mxnn21 :-\\r\\n:tmi.twitch.tv 372 mxnn21 :You are in a maze of twisty passages, all alike.\\r\\n:tmi.twitch.tv 376 mxnn21 :>\\r\\n:mxnn21!mxnn21@mxnn21.tmi.twitch.tv JOIN #kyedae_\\r\\n:mxnn21.tmi.twitch.tv 353 mxnn21 = #kyedae_ :mxnn21\\r\\n:mxnn21.tmi.twitch.tv 366 mxnn21 #kyedae_ :End of /NAMES list\\r\\n'"
      ]
     },
     "execution_count": 5,
     "metadata": {},
     "output_type": "execute_result"
    }
   ],
   "source": [
    "resp = sock.recv(2048).decode('utf-8')\n",
    "resp"
   ]
  },
  {
   "cell_type": "code",
   "execution_count": null,
   "metadata": {},
   "outputs": [],
   "source": [
    "#sock.close()"
   ]
  },
  {
   "cell_type": "code",
   "execution_count": 6,
   "metadata": {},
   "outputs": [],
   "source": [
    "import logging\n",
    "logging.basicConfig(level=logging.DEBUG,\n",
    "                    format='%(asctime)s — %(message)s',\n",
    "                    datefmt='%Y-%m-%d_%H:%M:%S',\n",
    "                    handlers=[logging.FileHandler('chat.log', encoding='utf-8')])"
   ]
  },
  {
   "cell_type": "code",
   "execution_count": 7,
   "metadata": {},
   "outputs": [],
   "source": [
    "logging.info(resp)"
   ]
  },
  {
   "cell_type": "code",
   "execution_count": 10,
   "metadata": {
    "collapsed": true
   },
   "outputs": [
    {
     "ename": "KeyboardInterrupt",
     "evalue": "",
     "output_type": "error",
     "traceback": [
      "\u001b[1;31m---------------------------------------------------------------------------\u001b[0m",
      "\u001b[1;31mKeyboardInterrupt\u001b[0m                         Traceback (most recent call last)",
      "\u001b[1;32m<ipython-input-10-84f1d9e6c838>\u001b[0m in \u001b[0;36m<module>\u001b[1;34m\u001b[0m\n\u001b[0;32m      1\u001b[0m \u001b[1;32mfrom\u001b[0m \u001b[0memoji\u001b[0m \u001b[1;32mimport\u001b[0m \u001b[0mdemojize\u001b[0m\u001b[1;33m\u001b[0m\u001b[1;33m\u001b[0m\u001b[0m\n\u001b[0;32m      2\u001b[0m \u001b[1;32mwhile\u001b[0m \u001b[1;32mTrue\u001b[0m\u001b[1;33m:\u001b[0m\u001b[1;33m\u001b[0m\u001b[1;33m\u001b[0m\u001b[0m\n\u001b[1;32m----> 3\u001b[1;33m     \u001b[0mresp\u001b[0m \u001b[1;33m=\u001b[0m \u001b[0msock\u001b[0m\u001b[1;33m.\u001b[0m\u001b[0mrecv\u001b[0m\u001b[1;33m(\u001b[0m\u001b[1;36m2048\u001b[0m\u001b[1;33m)\u001b[0m\u001b[1;33m.\u001b[0m\u001b[0mdecode\u001b[0m\u001b[1;33m(\u001b[0m\u001b[1;34m'utf-8'\u001b[0m\u001b[1;33m)\u001b[0m\u001b[1;33m\u001b[0m\u001b[1;33m\u001b[0m\u001b[0m\n\u001b[0m\u001b[0;32m      4\u001b[0m     \u001b[1;32mif\u001b[0m \u001b[0mresp\u001b[0m\u001b[1;33m.\u001b[0m\u001b[0mstartswith\u001b[0m\u001b[1;33m(\u001b[0m\u001b[1;34m'PING'\u001b[0m\u001b[1;33m)\u001b[0m\u001b[1;33m:\u001b[0m\u001b[1;33m\u001b[0m\u001b[1;33m\u001b[0m\u001b[0m\n\u001b[0;32m      5\u001b[0m         \u001b[0msock\u001b[0m\u001b[1;33m.\u001b[0m\u001b[0msend\u001b[0m\u001b[1;33m(\u001b[0m\u001b[1;34m\"PONG\\n\"\u001b[0m\u001b[1;33m.\u001b[0m\u001b[0mencode\u001b[0m\u001b[1;33m(\u001b[0m\u001b[1;34m'utf-8'\u001b[0m\u001b[1;33m)\u001b[0m\u001b[1;33m)\u001b[0m\u001b[1;33m\u001b[0m\u001b[1;33m\u001b[0m\u001b[0m\n",
      "\u001b[1;31mKeyboardInterrupt\u001b[0m: "
     ]
    }
   ],
   "source": [
    "from emoji import demojize\n",
    "while True:\n",
    "    resp = sock.recv(2048).decode('utf-8')\n",
    "    if resp.startswith('PING'):\n",
    "        sock.send(\"PONG\\n\".encode('utf-8'))\n",
    "    elif len(resp)>0:\n",
    "        logging.info(demojize(resp))"
   ]
  },
  {
   "cell_type": "code",
   "execution_count": 14,
   "metadata": {},
   "outputs": [],
   "source": [
    "import pandas as pd\n",
    "\n",
    "def get_chat_dataframe(file):\n",
    "    data = []\n",
    "\n",
    "    with open(file, 'r', encoding='utf-8') as f:\n",
    "        lines = f.read().split('\\n\\n\\n')\n",
    "        \n",
    "        for line in lines:\n",
    "            try:\n",
    "                time_logged = line.split('—')[0].strip()\n",
    "                time_logged = datetime.strptime(time_logged, '%Y-%m-%d_%H:%M:%S')\n",
    "\n",
    "                username_message = line.split('—')[1:]\n",
    "                username_message = '—'.join(username_message).strip()\n",
    "\n",
    "                username, channel, message = re.search(\n",
    "                    ':(.*)\\!.*@.*\\.tmi\\.twitch\\.tv PRIVMSG #(.*) :(.*)', username_message\n",
    "                ).groups()\n",
    "\n",
    "                d = {\n",
    "                    'dt': time_logged,\n",
    "                    'channel': channel,\n",
    "                    'username': username,\n",
    "                    'message': message\n",
    "                }\n",
    "\n",
    "                data.append(d)\n",
    "            \n",
    "            except Exception:\n",
    "                pass\n",
    "            \n",
    "    return pd.DataFrame().from_records(data)\n",
    "        \n",
    "    \n",
    "df = get_chat_dataframe('chat.log')"
   ]
  },
  {
   "cell_type": "code",
   "execution_count": 15,
   "metadata": {},
   "outputs": [
    {
     "name": "stdout",
     "output_type": "stream",
     "text": [
      "(5, 3)\n"
     ]
    },
    {
     "data": {
      "text/html": [
       "<div>\n",
       "<style scoped>\n",
       "    .dataframe tbody tr th:only-of-type {\n",
       "        vertical-align: middle;\n",
       "    }\n",
       "\n",
       "    .dataframe tbody tr th {\n",
       "        vertical-align: top;\n",
       "    }\n",
       "\n",
       "    .dataframe thead th {\n",
       "        text-align: right;\n",
       "    }\n",
       "</style>\n",
       "<table border=\"1\" class=\"dataframe\">\n",
       "  <thead>\n",
       "    <tr style=\"text-align: right;\">\n",
       "      <th></th>\n",
       "      <th>channel</th>\n",
       "      <th>username</th>\n",
       "      <th>message</th>\n",
       "    </tr>\n",
       "    <tr>\n",
       "      <th>dt</th>\n",
       "      <th></th>\n",
       "      <th></th>\n",
       "      <th></th>\n",
       "    </tr>\n",
       "  </thead>\n",
       "  <tbody>\n",
       "    <tr>\n",
       "      <th>2020-12-29 20:21:23</th>\n",
       "      <td>kyedae_</td>\n",
       "      <td>mxnn21</td>\n",
       "      <td>API testing...API testing hola</td>\n",
       "    </tr>\n",
       "    <tr>\n",
       "      <th>2020-12-29 20:22:05</th>\n",
       "      <td>kyedae_</td>\n",
       "      <td>mxnn21</td>\n",
       "      <td>Damn! chat log script works!</td>\n",
       "    </tr>\n",
       "    <tr>\n",
       "      <th>2020-12-29 20:22:27</th>\n",
       "      <td>kyedae_</td>\n",
       "      <td>mxnn21</td>\n",
       "      <td>testing twitch global emotes: PogChamp</td>\n",
       "    </tr>\n",
       "    <tr>\n",
       "      <th>2020-12-29 20:22:49</th>\n",
       "      <td>kyedae_</td>\n",
       "      <td>mxnn21</td>\n",
       "      <td>testing sub emotes: kyedaeRAGE kyedaeDX</td>\n",
       "    </tr>\n",
       "    <tr>\n",
       "      <th>2020-12-29 20:22:58</th>\n",
       "      <td>kyedae_</td>\n",
       "      <td>mxnn21</td>\n",
       "      <td>damn it all works woohooo</td>\n",
       "    </tr>\n",
       "  </tbody>\n",
       "</table>\n",
       "</div>"
      ],
      "text/plain": [
       "                     channel username                                  message\n",
       "dt                                                                            \n",
       "2020-12-29 20:21:23  kyedae_   mxnn21           API testing...API testing hola\n",
       "2020-12-29 20:22:05  kyedae_   mxnn21             Damn! chat log script works!\n",
       "2020-12-29 20:22:27  kyedae_   mxnn21   testing twitch global emotes: PogChamp\n",
       "2020-12-29 20:22:49  kyedae_   mxnn21  testing sub emotes: kyedaeRAGE kyedaeDX\n",
       "2020-12-29 20:22:58  kyedae_   mxnn21                damn it all works woohooo"
      ]
     },
     "execution_count": 15,
     "metadata": {},
     "output_type": "execute_result"
    }
   ],
   "source": [
    "df.set_index('dt', inplace=True)\n",
    "\n",
    "print(df.shape)\n",
    "\n",
    "df.head()"
   ]
  }
 ],
 "metadata": {
  "kernelspec": {
   "display_name": "Python 3",
   "language": "python",
   "name": "python3"
  },
  "language_info": {
   "codemirror_mode": {
    "name": "ipython",
    "version": 3
   },
   "file_extension": ".py",
   "mimetype": "text/x-python",
   "name": "python",
   "nbconvert_exporter": "python",
   "pygments_lexer": "ipython3",
   "version": "3.8.3"
  }
 },
 "nbformat": 4,
 "nbformat_minor": 4
}
